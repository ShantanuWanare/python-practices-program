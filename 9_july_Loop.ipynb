{
 "cells": [
  {
   "cell_type": "code",
   "execution_count": 33,
   "id": "720df68a",
   "metadata": {},
   "outputs": [
    {
     "name": "stdout",
     "output_type": "stream",
     "text": [
      "1    2    3    4    5    6    7    8    9    10    "
     ]
    }
   ],
   "source": [
    "for k in range(1,11):   \n",
    "    print(k,end=\"    \") "
   ]
  },
  {
   "cell_type": "code",
   "execution_count": 242,
   "id": "214c2f06",
   "metadata": {},
   "outputs": [
    {
     "name": "stdout",
     "output_type": "stream",
     "text": [
      "0\n",
      "1\n",
      "2\n",
      "3\n",
      "4\n"
     ]
    }
   ],
   "source": [
    "for k in range (5):\n",
    "    print(k)"
   ]
  },
  {
   "cell_type": "code",
   "execution_count": 285,
   "id": "6e21d1b1",
   "metadata": {},
   "outputs": [
    {
     "name": "stdout",
     "output_type": "stream",
     "text": [
      "0\t1\t2\t3\t4\t"
     ]
    }
   ],
   "source": [
    "for k in range (5):\n",
    "    print(k,end=\"\\t\")"
   ]
  },
  {
   "cell_type": "code",
   "execution_count": 81,
   "id": "1c1bfb2e",
   "metadata": {},
   "outputs": [
    {
     "name": "stdout",
     "output_type": "stream",
     "text": [
      "shantanu raju ram\n",
      "shantanu raju ram\n",
      "shantanu raju ram\n"
     ]
    }
   ],
   "source": [
    "for k in range (3):\n",
    "    x =  'shantanu'\n",
    "    y = 'raju' \n",
    "    z = 'ram'\n",
    "    print(\"%s %s %s\"%(x,y,z))"
   ]
  },
  {
   "cell_type": "code",
   "execution_count": 3,
   "id": "ceb81cdc",
   "metadata": {},
   "outputs": [
    {
     "name": "stdout",
     "output_type": "stream",
     "text": [
      "c\n",
      "d\n"
     ]
    }
   ],
   "source": [
    "sample = ['a','b','c','d','e']\n",
    "for i in range(2,4):  # 4-1 = 3rd index value\n",
    "    print(sample[i])"
   ]
  },
  {
   "cell_type": "code",
   "execution_count": 47,
   "id": "06189781",
   "metadata": {},
   "outputs": [
    {
     "name": "stdout",
     "output_type": "stream",
     "text": [
      "a  b  c  d  e  "
     ]
    }
   ],
   "source": [
    "for i in range(len(sample)):\n",
    "    print(sample[i] ,end =\"  \")"
   ]
  },
  {
   "cell_type": "code",
   "execution_count": 44,
   "id": "569c4ca8",
   "metadata": {},
   "outputs": [
    {
     "name": "stdout",
     "output_type": "stream",
     "text": [
      "hi 1\n",
      "hi 2\n",
      "hi 3\n",
      "hi 4\n",
      "hi 5\n",
      "hi 6\n"
     ]
    }
   ],
   "source": [
    "i = 0\n",
    "while  i < 6:\n",
    "    i = i+1\n",
    "    print('hi',i)"
   ]
  },
  {
   "cell_type": "code",
   "execution_count": 41,
   "id": "3dfc56db",
   "metadata": {},
   "outputs": [
    {
     "name": "stdout",
     "output_type": "stream",
     "text": [
      "hello 2\n",
      "hello 3\n",
      "hello 4\n"
     ]
    }
   ],
   "source": [
    "for i in range(2,5):\n",
    "    print(\"hello\",i)  # here i is also print with given range values"
   ]
  },
  {
   "cell_type": "code",
   "execution_count": 39,
   "id": "2e492dc7",
   "metadata": {},
   "outputs": [
    {
     "name": "stdout",
     "output_type": "stream",
     "text": [
      "hllo\n",
      "hllo\n",
      "hllo\n"
     ]
    }
   ],
   "source": [
    "for i in range(2,5): \n",
    "    print(\"hllo\")"
   ]
  },
  {
   "cell_type": "code",
   "execution_count": 40,
   "id": "f394b7ec",
   "metadata": {},
   "outputs": [
    {
     "name": "stdout",
     "output_type": "stream",
     "text": [
      "2\n",
      "3\n",
      "4\n"
     ]
    }
   ],
   "source": [
    "for i in range(2,5): \n",
    "    print(i)"
   ]
  },
  {
   "cell_type": "code",
   "execution_count": 50,
   "id": "f7f11e47",
   "metadata": {},
   "outputs": [
    {
     "name": "stdout",
     "output_type": "stream",
     "text": [
      "4\n",
      "6\n",
      "8\n"
     ]
    }
   ],
   "source": [
    "o = [2,4,6,8,10]\n",
    "for i in range(1,4): # 4-1 = 3rd index value\n",
    "    print(o[i])"
   ]
  },
  {
   "cell_type": "code",
   "execution_count": 59,
   "id": "57304632",
   "metadata": {},
   "outputs": [
    {
     "name": "stdout",
     "output_type": "stream",
     "text": [
      "i\n",
      " \n",
      "l\n",
      "o\n",
      "v\n"
     ]
    }
   ],
   "source": [
    "p = \" i love python\"\n",
    "for k in range(1,6):  # 6-1 = 5th index value\n",
    "    print(p[k])"
   ]
  },
  {
   "cell_type": "code",
   "execution_count": 56,
   "id": "c70382e9",
   "metadata": {},
   "outputs": [
    {
     "name": "stdout",
     "output_type": "stream",
     "text": [
      " i love python\n",
      " i love python\n",
      " i love python\n",
      " i love python\n",
      " i love python\n",
      " i love python\n"
     ]
    }
   ],
   "source": [
    "p = \" i love python\"\n",
    "for k in range(6):\n",
    "    print(p)    "
   ]
  },
  {
   "cell_type": "code",
   "execution_count": 61,
   "id": "42ead1bb",
   "metadata": {},
   "outputs": [
    {
     "name": "stdout",
     "output_type": "stream",
     "text": [
      " i love \n",
      " i love \n",
      " i love \n",
      " i love \n",
      " i love \n",
      " i love \n",
      " i love \n",
      " i love \n"
     ]
    }
   ],
   "source": [
    "p = \" i love \"  \n",
    "for i in p:\n",
    "    print(p)  # will print 8 times."
   ]
  },
  {
   "cell_type": "code",
   "execution_count": 68,
   "id": "6c02b8a3",
   "metadata": {},
   "outputs": [
    {
     "name": "stdout",
     "output_type": "stream",
     "text": [
      "14\n",
      "14\n",
      "14\n",
      "14\n",
      "14\n",
      "14\n",
      "14\n",
      "14\n",
      "14\n",
      "14\n",
      "14\n",
      "14\n",
      "14\n",
      "14\n"
     ]
    }
   ],
   "source": [
    "p = \" i love python\"  # 0-14 index\n",
    "for i in p:\n",
    "    print(len(p))"
   ]
  },
  {
   "cell_type": "code",
   "execution_count": 69,
   "id": "8c38e2f6",
   "metadata": {},
   "outputs": [
    {
     "name": "stdout",
     "output_type": "stream",
     "text": [
      " i love\n",
      " i love\n",
      " i love\n",
      " i love\n",
      " i love\n",
      " i love\n",
      " i love\n"
     ]
    }
   ],
   "source": [
    "p = \" i love\" # 0-7 index\n",
    "for k in range(len(p)):\n",
    "    print(p)"
   ]
  },
  {
   "cell_type": "markdown",
   "id": "1ce03066",
   "metadata": {},
   "source": [
    "# write a program to print \"hello worls \" 5 times"
   ]
  },
  {
   "cell_type": "code",
   "execution_count": 71,
   "id": "8139b3d7",
   "metadata": {},
   "outputs": [
    {
     "name": "stdout",
     "output_type": "stream",
     "text": [
      "hello worls\n",
      "hello worls\n",
      "hello worls\n",
      "hello worls\n",
      "hello worls\n"
     ]
    }
   ],
   "source": [
    "for i in range(5):            # here i is representing the range\n",
    "    print(\"hello worls\")      "
   ]
  },
  {
   "cell_type": "markdown",
   "id": "6baea3eb",
   "metadata": {},
   "source": [
    "# WAP to print 1 to 10 number"
   ]
  },
  {
   "cell_type": "code",
   "execution_count": 77,
   "id": "b2f99f86",
   "metadata": {},
   "outputs": [
    {
     "name": "stdout",
     "output_type": "stream",
     "text": [
      "1 2 3 4 5 6 7 8 9 10 "
     ]
    }
   ],
   "source": [
    "for k in range(1,11):\n",
    "    print(k, end = \" \" )"
   ]
  },
  {
   "cell_type": "code",
   "execution_count": null,
   "id": "d1b8a1b4",
   "metadata": {},
   "outputs": [],
   "source": [
    "# By default python’s print() function ends with a newline\n",
    "# Python’s print() function comes with a parameter called ‘end’. \n",
    "# By default, the value of this parameter is ‘\\n’, i.e. the new line character.\n",
    "# You can end a print statement with any character/string using this parameter."
   ]
  },
  {
   "cell_type": "code",
   "execution_count": 78,
   "id": "3442f6cc",
   "metadata": {},
   "outputs": [
    {
     "name": "stdout",
     "output_type": "stream",
     "text": [
      "Welcome to technogreek "
     ]
    }
   ],
   "source": [
    "print(\"Welcome to\" , end = ' ')   # ends the output with a <space> \n",
    "print(\"technogreek\", end = ' ')    # ends the output with a <space> "
   ]
  },
  {
   "cell_type": "code",
   "execution_count": 79,
   "id": "6f4fb78a",
   "metadata": {},
   "outputs": [
    {
     "name": "stdout",
     "output_type": "stream",
     "text": [
      "Python@technogreek\n"
     ]
    }
   ],
   "source": [
    "print(\"Python\" , end = '@') \n",
    "print(\"technogreek\")"
   ]
  },
  {
   "cell_type": "code",
   "execution_count": 82,
   "id": "c28f5132",
   "metadata": {},
   "outputs": [],
   "source": [
    "sample = ['a','b','c','d','e']"
   ]
  },
  {
   "cell_type": "code",
   "execution_count": 92,
   "id": "243b6531",
   "metadata": {},
   "outputs": [
    {
     "name": "stdout",
     "output_type": "stream",
     "text": [
      "a\n",
      "b\n",
      "c\n",
      "d\n",
      "e\n"
     ]
    }
   ],
   "source": [
    "for i in range(len(sample)):\n",
    "    print(sample[i])"
   ]
  },
  {
   "cell_type": "code",
   "execution_count": 90,
   "id": "3e17ff68",
   "metadata": {},
   "outputs": [
    {
     "name": "stdout",
     "output_type": "stream",
     "text": [
      "['a', 'b', 'c', 'd', 'e']\n",
      "['a', 'b', 'c', 'd', 'e']\n",
      "['a', 'b', 'c', 'd', 'e']\n",
      "['a', 'b', 'c', 'd', 'e']\n"
     ]
    }
   ],
   "source": [
    "for i in range(4):\n",
    "    print(sample)"
   ]
  },
  {
   "cell_type": "code",
   "execution_count": 101,
   "id": "d8e3e22a",
   "metadata": {},
   "outputs": [
    {
     "data": {
      "text/plain": [
       "['a', 'b', 'c', 'd', 'e']"
      ]
     },
     "execution_count": 101,
     "metadata": {},
     "output_type": "execute_result"
    }
   ],
   "source": [
    "sample"
   ]
  },
  {
   "cell_type": "code",
   "execution_count": 107,
   "id": "7ef11a0d",
   "metadata": {},
   "outputs": [
    {
     "data": {
      "text/plain": [
       "5"
      ]
     },
     "execution_count": 107,
     "metadata": {},
     "output_type": "execute_result"
    }
   ],
   "source": [
    "len(sample)"
   ]
  },
  {
   "cell_type": "code",
   "execution_count": 109,
   "id": "96968857",
   "metadata": {},
   "outputs": [
    {
     "name": "stdout",
     "output_type": "stream",
     "text": [
      "0\n",
      "1\n",
      "2\n",
      "3\n",
      "4\n"
     ]
    }
   ],
   "source": [
    "for i in range(len(sample)):\n",
    "    print(i)"
   ]
  },
  {
   "cell_type": "markdown",
   "id": "95175c97",
   "metadata": {},
   "source": [
    "# for loop with dict"
   ]
  },
  {
   "cell_type": "code",
   "execution_count": 143,
   "id": "ef925201",
   "metadata": {},
   "outputs": [],
   "source": [
    "employee = {'name':'ram','dept':'IT',\"code\":'5679'}"
   ]
  },
  {
   "cell_type": "code",
   "execution_count": 144,
   "id": "529c39c2",
   "metadata": {},
   "outputs": [
    {
     "data": {
      "text/plain": [
       "{'name': 'ram', 'dept': 'IT', 'code': '5679'}"
      ]
     },
     "execution_count": 144,
     "metadata": {},
     "output_type": "execute_result"
    }
   ],
   "source": [
    "employee"
   ]
  },
  {
   "cell_type": "code",
   "execution_count": 145,
   "id": "49f19a75",
   "metadata": {},
   "outputs": [
    {
     "name": "stdout",
     "output_type": "stream",
     "text": [
      "name\n",
      "dept\n",
      "code\n"
     ]
    }
   ],
   "source": [
    "for i in employee:\n",
    "    print(i)"
   ]
  },
  {
   "cell_type": "code",
   "execution_count": 155,
   "id": "fc47765a",
   "metadata": {},
   "outputs": [
    {
     "name": "stdout",
     "output_type": "stream",
     "text": [
      "name\n",
      "dept\n",
      "code\n"
     ]
    }
   ],
   "source": [
    "for i in employee.items():\n",
    "    print(i[0])"
   ]
  },
  {
   "cell_type": "code",
   "execution_count": 146,
   "id": "5578573c",
   "metadata": {},
   "outputs": [],
   "source": [
    "# we have two methods to retrive values from dict.\n",
    "# variable[\" \"]  # variable.get(\" \")"
   ]
  },
  {
   "cell_type": "code",
   "execution_count": 147,
   "id": "c035a1f6",
   "metadata": {},
   "outputs": [
    {
     "name": "stdout",
     "output_type": "stream",
     "text": [
      "ram\n",
      "IT\n",
      "5679\n"
     ]
    }
   ],
   "source": [
    "for i in employee:\n",
    "    print(employee[i])"
   ]
  },
  {
   "cell_type": "code",
   "execution_count": 148,
   "id": "b02d8a5d",
   "metadata": {},
   "outputs": [
    {
     "name": "stdout",
     "output_type": "stream",
     "text": [
      "ram\n",
      "IT\n",
      "5679\n"
     ]
    }
   ],
   "source": [
    "for i in employee:\n",
    "    print(employee.get(i))"
   ]
  },
  {
   "cell_type": "code",
   "execution_count": 156,
   "id": "396e8635",
   "metadata": {},
   "outputs": [
    {
     "name": "stdout",
     "output_type": "stream",
     "text": [
      "ram\n",
      "IT\n",
      "5679\n"
     ]
    }
   ],
   "source": [
    "for i in employee.items():\n",
    "    print(i[1])"
   ]
  },
  {
   "cell_type": "markdown",
   "id": "b0c2a2f4",
   "metadata": {},
   "source": [
    "# print both key and values"
   ]
  },
  {
   "cell_type": "code",
   "execution_count": 149,
   "id": "982025e8",
   "metadata": {},
   "outputs": [
    {
     "name": "stdout",
     "output_type": "stream",
     "text": [
      "key is name and value is ram\n",
      "key is dept and value is IT\n",
      "key is code and value is 5679\n"
     ]
    }
   ],
   "source": [
    "for i in employee:\n",
    "    print('key is %s and value is %s'%(i,employee.get(i)))"
   ]
  },
  {
   "cell_type": "code",
   "execution_count": 150,
   "id": "35bdf946",
   "metadata": {},
   "outputs": [
    {
     "name": "stdout",
     "output_type": "stream",
     "text": [
      "name ram\n",
      "dept IT\n",
      "code 5679\n"
     ]
    }
   ],
   "source": [
    "for i in employee:\n",
    "    print('%s %s'%(i,employee.get(i)))"
   ]
  },
  {
   "cell_type": "markdown",
   "id": "50c8fbf0",
   "metadata": {},
   "source": [
    "# use .items method"
   ]
  },
  {
   "cell_type": "code",
   "execution_count": 159,
   "id": "d5ad6cd3",
   "metadata": {},
   "outputs": [
    {
     "name": "stdout",
     "output_type": "stream",
     "text": [
      "name ram\n",
      "dept IT\n",
      "code 5679\n"
     ]
    }
   ],
   "source": [
    "for i ,k in employee.items():\n",
    "    print(i,k)"
   ]
  },
  {
   "cell_type": "code",
   "execution_count": 152,
   "id": "4b4bd5c4",
   "metadata": {},
   "outputs": [
    {
     "name": "stdout",
     "output_type": "stream",
     "text": [
      "('name', 'ram')\n",
      "('dept', 'IT')\n",
      "('code', '5679')\n"
     ]
    }
   ],
   "source": [
    "for i in employee.items():\n",
    "    print(i)"
   ]
  },
  {
   "cell_type": "code",
   "execution_count": null,
   "id": "3821a403",
   "metadata": {},
   "outputs": [],
   "source": []
  },
  {
   "cell_type": "code",
   "execution_count": null,
   "id": "7aff59e3",
   "metadata": {},
   "outputs": [],
   "source": []
  },
  {
   "cell_type": "markdown",
   "id": "c9198783",
   "metadata": {},
   "source": [
    "# WAP to print table for 2 to 10"
   ]
  },
  {
   "cell_type": "code",
   "execution_count": 231,
   "id": "aaf88344",
   "metadata": {},
   "outputs": [
    {
     "ename": "SyntaxError",
     "evalue": "unexpected EOF while parsing (<ipython-input-231-c5bc192ae664>, line 3)",
     "output_type": "error",
     "traceback": [
      "\u001b[1;36m  File \u001b[1;32m\"<ipython-input-231-c5bc192ae664>\"\u001b[1;36m, line \u001b[1;32m3\u001b[0m\n\u001b[1;33m    #  print(\"%d %d\"%((2*a),(3*b)))\u001b[0m\n\u001b[1;37m                                   ^\u001b[0m\n\u001b[1;31mSyntaxError\u001b[0m\u001b[1;31m:\u001b[0m unexpected EOF while parsing\n"
     ]
    }
   ],
   "source": [
    "for a in range (1,11):\n",
    "    for b in range (1,11):\n",
    "      #  print(\"%d %d\"%((2*a),(3*b)))\n"
   ]
  },
  {
   "cell_type": "code",
   "execution_count": null,
   "id": "38a2ff5c",
   "metadata": {},
   "outputs": [],
   "source": []
  },
  {
   "cell_type": "code",
   "execution_count": 214,
   "id": "a0be044d",
   "metadata": {},
   "outputs": [
    {
     "ename": "SyntaxError",
     "evalue": "invalid syntax (<ipython-input-214-0ae44b1a1975>, line 3)",
     "output_type": "error",
     "traceback": [
      "\u001b[1;36m  File \u001b[1;32m\"<ipython-input-214-0ae44b1a1975>\"\u001b[1;36m, line \u001b[1;32m3\u001b[0m\n\u001b[1;33m    print((j*3,end=\"\\t\"),(i*2,end=\"\\t\"))\u001b[0m\n\u001b[1;37m                  ^\u001b[0m\n\u001b[1;31mSyntaxError\u001b[0m\u001b[1;31m:\u001b[0m invalid syntax\n"
     ]
    }
   ],
   "source": [
    "for i in range (1,11):\n",
    "    for j in range(1,11):\n",
    "        print((j*3,end=\"\\t\"),(i*2,end=\"\\t\"))"
   ]
  },
  {
   "cell_type": "code",
   "execution_count": 232,
   "id": "31769626",
   "metadata": {},
   "outputs": [
    {
     "ename": "SyntaxError",
     "evalue": "unexpected EOF while parsing (<ipython-input-232-b2c02ba754b6>, line 6)",
     "output_type": "error",
     "traceback": [
      "\u001b[1;36m  File \u001b[1;32m\"<ipython-input-232-b2c02ba754b6>\"\u001b[1;36m, line \u001b[1;32m6\u001b[0m\n\u001b[1;33m    #  print(\"%d\"%(k))\u001b[0m\n\u001b[1;37m                      ^\u001b[0m\n\u001b[1;31mSyntaxError\u001b[0m\u001b[1;31m:\u001b[0m unexpected EOF while parsing\n"
     ]
    }
   ],
   "source": [
    "for i in range (1,11):\n",
    "   # print(\"%d\"%(i))\n",
    "    for j in range(1,11):\n",
    "      #  print(\"%d\"%(j))\n",
    "        for k in range (1,11):\n",
    "          #  print(\"%d\"%(k))"
   ]
  },
  {
   "cell_type": "code",
   "execution_count": null,
   "id": "01cde867",
   "metadata": {},
   "outputs": [],
   "source": []
  },
  {
   "cell_type": "code",
   "execution_count": 212,
   "id": "47000f1a",
   "metadata": {},
   "outputs": [
    {
     "name": "stdout",
     "output_type": "stream",
     "text": [
      "2\t4\t6\t8\t10\t12\t14\t16\t18\t20\t\n",
      "3\t6\t9\t12\t15\t18\t21\t24\t27\t30\t\n",
      "4\t8\t12\t16\t20\t24\t28\t32\t36\t40\t\n",
      "5\t10\t15\t20\t25\t30\t35\t40\t45\t50\t\n",
      "6\t12\t18\t24\t30\t36\t42\t48\t54\t60\t\n",
      "7\t14\t21\t28\t35\t42\t49\t56\t63\t70\t\n",
      "8\t16\t24\t32\t40\t48\t56\t64\t72\t80\t\n",
      "9\t18\t27\t36\t45\t54\t63\t72\t81\t90\t\n",
      "10\t20\t30\t40\t50\t60\t70\t80\t90\t100\t\n"
     ]
    }
   ],
   "source": [
    "for i in range(2, 11):\n",
    "    for j in range(i, (i*10)+1, i):\n",
    "            print(j, end=\"\\t\")\n",
    "    print()"
   ]
  },
  {
   "cell_type": "code",
   "execution_count": 239,
   "id": "0260b8ea",
   "metadata": {},
   "outputs": [
    {
     "name": "stdout",
     "output_type": "stream",
     "text": [
      "2\t22\t22\t22\t22\t22\t22\t22\t22\t22\t3\t22\t22\t22\t22\t22\t22\t22\t22\t22\t4\t22\t22\t22\t22\t22\t22\t22\t22\t22\t5\t22\t22\t22\t22\t22\t22\t22\t22\t22\t6\t22\t22\t22\t22\t22\t22\t22\t22\t22\t7\t22\t22\t22\t22\t22\t22\t22\t22\t22\t8\t22\t22\t22\t22\t22\t22\t22\t22\t22\t9\t22\t22\t22\t22\t22\t22\t22\t22\t22\t10\t22\t22\t22\t22\t22\t22\t22\t22\t22\t"
     ]
    }
   ],
   "source": [
    "for i in range (2,11):\n",
    "    print(i,end=\"\\t\")\n",
    "    for j in range(2,11):\n",
    "       "
   ]
  },
  {
   "cell_type": "code",
   "execution_count": null,
   "id": "8d6ec088",
   "metadata": {},
   "outputs": [],
   "source": []
  },
  {
   "cell_type": "code",
   "execution_count": 275,
   "id": "e3ce9c6a",
   "metadata": {},
   "outputs": [
    {
     "ename": "IndentationError",
     "evalue": "expected an indented block (<ipython-input-275-272fac1b67b8>, line 4)",
     "output_type": "error",
     "traceback": [
      "\u001b[1;36m  File \u001b[1;32m\"<ipython-input-275-272fac1b67b8>\"\u001b[1;36m, line \u001b[1;32m4\u001b[0m\n\u001b[1;33m    print()\u001b[0m\n\u001b[1;37m    ^\u001b[0m\n\u001b[1;31mIndentationError\u001b[0m\u001b[1;31m:\u001b[0m expected an indented block\n"
     ]
    }
   ],
   "source": [
    "for i in range(1, 11):\n",
    "    for j in range( i,(i*11),i):\n",
    "            #print(j )#end=\"\\t\")\n",
    "    print()"
   ]
  },
  {
   "cell_type": "code",
   "execution_count": 274,
   "id": "1d7098eb",
   "metadata": {},
   "outputs": [
    {
     "ename": "SyntaxError",
     "evalue": "unexpected EOF while parsing (<ipython-input-274-b766743ab31e>, line 4)",
     "output_type": "error",
     "traceback": [
      "\u001b[1;36m  File \u001b[1;32m\"<ipython-input-274-b766743ab31e>\"\u001b[1;36m, line \u001b[1;32m4\u001b[0m\n\u001b[1;33m    # print()\u001b[0m\n\u001b[1;37m             ^\u001b[0m\n\u001b[1;31mSyntaxError\u001b[0m\u001b[1;31m:\u001b[0m unexpected EOF while parsing\n"
     ]
    }
   ],
   "source": [
    "for i in range(2, 11):\n",
    "    for j in range(i,i*11,i):\n",
    "       # print(j)\n",
    "       # print()"
   ]
  },
  {
   "cell_type": "code",
   "execution_count": null,
   "id": "494f79f3",
   "metadata": {},
   "outputs": [],
   "source": []
  },
  {
   "cell_type": "code",
   "execution_count": 279,
   "id": "27dd7d82",
   "metadata": {},
   "outputs": [
    {
     "name": "stdout",
     "output_type": "stream",
     "text": [
      "2\n",
      "4\n",
      "6\n",
      "8\n",
      "10\n",
      "12\n",
      "14\n",
      "16\n",
      "18\n",
      "20\n",
      "3\n",
      "6\n",
      "9\n",
      "12\n",
      "15\n",
      "18\n",
      "21\n",
      "24\n",
      "27\n",
      "30\n",
      "4\n",
      "8\n",
      "12\n",
      "16\n",
      "20\n",
      "24\n",
      "28\n",
      "32\n",
      "36\n",
      "40\n",
      "5\n",
      "10\n",
      "15\n",
      "20\n",
      "25\n",
      "30\n",
      "35\n",
      "40\n",
      "45\n",
      "50\n",
      "6\n",
      "12\n",
      "18\n",
      "24\n",
      "30\n",
      "36\n",
      "42\n",
      "48\n",
      "54\n",
      "60\n",
      "7\n",
      "14\n",
      "21\n",
      "28\n",
      "35\n",
      "42\n",
      "49\n",
      "56\n",
      "63\n",
      "70\n",
      "8\n",
      "16\n",
      "24\n",
      "32\n",
      "40\n",
      "48\n",
      "56\n",
      "64\n",
      "72\n",
      "80\n",
      "9\n",
      "18\n",
      "27\n",
      "36\n",
      "45\n",
      "54\n",
      "63\n",
      "72\n",
      "81\n",
      "90\n",
      "10\n",
      "20\n",
      "30\n",
      "40\n",
      "50\n",
      "60\n",
      "70\n",
      "80\n",
      "90\n",
      "100\n"
     ]
    }
   ],
   "source": [
    "for i in range(2,11):\n",
    "    for j in range(1,11):\n",
    "        print(\"%d\" % (i*j))"
   ]
  },
  {
   "cell_type": "code",
   "execution_count": null,
   "id": "9c53813e",
   "metadata": {},
   "outputs": [],
   "source": []
  },
  {
   "cell_type": "code",
   "execution_count": null,
   "id": "383644eb",
   "metadata": {},
   "outputs": [],
   "source": []
  },
  {
   "cell_type": "code",
   "execution_count": null,
   "id": "abf5bf29",
   "metadata": {},
   "outputs": [],
   "source": []
  }
 ],
 "metadata": {
  "kernelspec": {
   "display_name": "Python 3",
   "language": "python",
   "name": "python3"
  },
  "language_info": {
   "codemirror_mode": {
    "name": "ipython",
    "version": 3
   },
   "file_extension": ".py",
   "mimetype": "text/x-python",
   "name": "python",
   "nbconvert_exporter": "python",
   "pygments_lexer": "ipython3",
   "version": "3.8.8"
  }
 },
 "nbformat": 4,
 "nbformat_minor": 5
}
