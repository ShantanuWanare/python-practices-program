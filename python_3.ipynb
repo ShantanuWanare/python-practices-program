{
 "cells": [
  {
   "cell_type": "markdown",
   "id": "7ed87893",
   "metadata": {},
   "source": [
    "## Print Formating"
   ]
  },
  {
   "cell_type": "code",
   "execution_count": null,
   "id": "7fbf3feb",
   "metadata": {},
   "outputs": [],
   "source": [
    "## There are two types of formatting\n",
    "\n",
    "# 1] by using %d %s %f\n",
    "\n",
    "# 2] by using  .format method"
   ]
  },
  {
   "cell_type": "code",
   "execution_count": null,
   "id": "3150f7a4",
   "metadata": {},
   "outputs": [],
   "source": []
  },
  {
   "cell_type": "markdown",
   "id": "fc288c08",
   "metadata": {},
   "source": [
    "# 1] by using %d %s %f"
   ]
  },
  {
   "cell_type": "code",
   "execution_count": 18,
   "id": "defb3af5",
   "metadata": {},
   "outputs": [
    {
     "name": "stdout",
     "output_type": "stream",
     "text": [
      "value of a is 100 and value of b is 2020\n"
     ]
    }
   ],
   "source": [
    "print(\"value of a is %d and value of b is %d\" %(100,2020))"
   ]
  },
  {
   "cell_type": "code",
   "execution_count": 19,
   "id": "adb7a2ae",
   "metadata": {},
   "outputs": [
    {
     "name": "stdout",
     "output_type": "stream",
     "text": [
      "value of a is 20 and value of b is 10\n"
     ]
    }
   ],
   "source": [
    "a= 10\n",
    "b=20\n",
    "print(\"value of a is %d and value of b is %d\" %(b,a))"
   ]
  },
  {
   "cell_type": "markdown",
   "id": "c234c438",
   "metadata": {},
   "source": [
    "# 2] .format"
   ]
  },
  {
   "cell_type": "code",
   "execution_count": 23,
   "id": "7ec9abee",
   "metadata": {},
   "outputs": [
    {
     "name": "stdout",
     "output_type": "stream",
     "text": [
      "value of a is 10 and value of B is 20\n"
     ]
    }
   ],
   "source": [
    "print(\"value of a is {} and value of B is {}\".format(a,b))"
   ]
  },
  {
   "cell_type": "code",
   "execution_count": 21,
   "id": "7bff5299",
   "metadata": {},
   "outputs": [
    {
     "name": "stdout",
     "output_type": "stream",
     "text": [
      "value of a is 20 and b is 10\n"
     ]
    }
   ],
   "source": [
    "print(\"value of a is {1} and b is {0}\".format(a,b))"
   ]
  },
  {
   "cell_type": "markdown",
   "id": "80dc3457",
   "metadata": {},
   "source": [
    "# Built in function "
   ]
  },
  {
   "cell_type": "markdown",
   "id": "a0d189e4",
   "metadata": {},
   "source": [
    "# Boolen - Bool"
   ]
  },
  {
   "cell_type": "code",
   "execution_count": null,
   "id": "5e09cdbd",
   "metadata": {},
   "outputs": [],
   "source": [
    "# bool is always return either True OR False  "
   ]
  },
  {
   "cell_type": "code",
   "execution_count": null,
   "id": "966813b1",
   "metadata": {},
   "outputs": [],
   "source": [
    "#   =    is assignment\n",
    "#   ==   is comparision"
   ]
  },
  {
   "cell_type": "code",
   "execution_count": 24,
   "id": "f63f4d76",
   "metadata": {},
   "outputs": [
    {
     "data": {
      "text/plain": [
       "True"
      ]
     },
     "execution_count": 24,
     "metadata": {},
     "output_type": "execute_result"
    }
   ],
   "source": [
    "10 == 10"
   ]
  },
  {
   "cell_type": "code",
   "execution_count": 25,
   "id": "c2c9f75c",
   "metadata": {},
   "outputs": [
    {
     "data": {
      "text/plain": [
       "False"
      ]
     },
     "execution_count": 25,
     "metadata": {},
     "output_type": "execute_result"
    }
   ],
   "source": [
    "10 > 10"
   ]
  },
  {
   "cell_type": "code",
   "execution_count": 26,
   "id": "852821a3",
   "metadata": {},
   "outputs": [
    {
     "data": {
      "text/plain": [
       "True"
      ]
     },
     "execution_count": 26,
     "metadata": {},
     "output_type": "execute_result"
    }
   ],
   "source": [
    "50<=50"
   ]
  },
  {
   "cell_type": "code",
   "execution_count": 158,
   "id": "5b5a324a",
   "metadata": {},
   "outputs": [
    {
     "data": {
      "text/plain": [
       "False"
      ]
     },
     "execution_count": 158,
     "metadata": {},
     "output_type": "execute_result"
    }
   ],
   "source": [
    "viraj == 100"
   ]
  },
  {
   "cell_type": "code",
   "execution_count": 32,
   "id": "a07c47bd",
   "metadata": {},
   "outputs": [
    {
     "data": {
      "text/plain": [
       "False"
      ]
     },
     "execution_count": 32,
     "metadata": {},
     "output_type": "execute_result"
    }
   ],
   "source": [
    "'viraj' ==50"
   ]
  },
  {
   "cell_type": "code",
   "execution_count": 35,
   "id": "5e76f8a7",
   "metadata": {},
   "outputs": [
    {
     "data": {
      "text/plain": [
       "False"
      ]
     },
     "execution_count": 35,
     "metadata": {},
     "output_type": "execute_result"
    }
   ],
   "source": [
    "'viraj' == 'Viraj'   # python is case sensitive - v and V are different variable for python"
   ]
  },
  {
   "cell_type": "code",
   "execution_count": 58,
   "id": "0dd3addd",
   "metadata": {},
   "outputs": [],
   "source": [
    "a =100\n",
    "A=1000"
   ]
  },
  {
   "cell_type": "code",
   "execution_count": 70,
   "id": "21c65ab6",
   "metadata": {},
   "outputs": [
    {
     "data": {
      "text/plain": [
       "1000"
      ]
     },
     "execution_count": 70,
     "metadata": {},
     "output_type": "execute_result"
    }
   ],
   "source": [
    "A"
   ]
  },
  {
   "cell_type": "code",
   "execution_count": 69,
   "id": "fbfbf6a2",
   "metadata": {},
   "outputs": [
    {
     "data": {
      "text/plain": [
       "10"
      ]
     },
     "execution_count": 69,
     "metadata": {},
     "output_type": "execute_result"
    }
   ],
   "source": [
    "a"
   ]
  },
  {
   "cell_type": "code",
   "execution_count": 117,
   "id": "0c533e97",
   "metadata": {},
   "outputs": [],
   "source": [
    "a=50"
   ]
  },
  {
   "cell_type": "code",
   "execution_count": 85,
   "id": "72342ca5",
   "metadata": {},
   "outputs": [
    {
     "data": {
      "text/plain": [
       "20"
      ]
     },
     "execution_count": 85,
     "metadata": {},
     "output_type": "execute_result"
    }
   ],
   "source": [
    "a"
   ]
  },
  {
   "cell_type": "code",
   "execution_count": 119,
   "id": "aae5bf3e",
   "metadata": {},
   "outputs": [],
   "source": [
    "b=20\n",
    "a=50"
   ]
  },
  {
   "cell_type": "code",
   "execution_count": 120,
   "id": "63d9a748",
   "metadata": {},
   "outputs": [
    {
     "name": "stdout",
     "output_type": "stream",
     "text": [
      "before  reassignment 50 20\n"
     ]
    }
   ],
   "source": [
    "print(\"before  reassignment\",a,b)"
   ]
  },
  {
   "cell_type": "code",
   "execution_count": 88,
   "id": "5f51ca3d",
   "metadata": {},
   "outputs": [
    {
     "name": "stdout",
     "output_type": "stream",
     "text": [
      "after  reassignment 20 20\n"
     ]
    }
   ],
   "source": [
    "a=b\n",
    "print(\"after  reassignment\",a,b)"
   ]
  },
  {
   "cell_type": "code",
   "execution_count": 106,
   "id": "bf61792a",
   "metadata": {},
   "outputs": [],
   "source": [
    "a=70"
   ]
  },
  {
   "cell_type": "code",
   "execution_count": 111,
   "id": "884c701c",
   "metadata": {},
   "outputs": [],
   "source": [
    "b=50"
   ]
  },
  {
   "cell_type": "code",
   "execution_count": 104,
   "id": "ca59c812",
   "metadata": {},
   "outputs": [
    {
     "data": {
      "text/plain": [
       "False"
      ]
     },
     "execution_count": 104,
     "metadata": {},
     "output_type": "execute_result"
    }
   ],
   "source": [
    "a==b  # comparision 70==50 no"
   ]
  },
  {
   "cell_type": "markdown",
   "id": "992b948e",
   "metadata": {},
   "source": [
    "#second builtin function\n",
    "# isinstance(value,datatype) return bool"
   ]
  },
  {
   "cell_type": "code",
   "execution_count": 122,
   "id": "f5237d42",
   "metadata": {},
   "outputs": [
    {
     "data": {
      "text/plain": [
       "True"
      ]
     },
     "execution_count": 122,
     "metadata": {},
     "output_type": "execute_result"
    }
   ],
   "source": [
    "isinstance(1000,int)"
   ]
  },
  {
   "cell_type": "code",
   "execution_count": 127,
   "id": "d1f2da15",
   "metadata": {},
   "outputs": [
    {
     "data": {
      "text/plain": [
       "True"
      ]
     },
     "execution_count": 127,
     "metadata": {},
     "output_type": "execute_result"
    }
   ],
   "source": [
    "isinstance(50.333,float)"
   ]
  },
  {
   "cell_type": "code",
   "execution_count": 128,
   "id": "8b3e2784",
   "metadata": {},
   "outputs": [
    {
     "data": {
      "text/plain": [
       "True"
      ]
     },
     "execution_count": 128,
     "metadata": {},
     "output_type": "execute_result"
    }
   ],
   "source": [
    "isinstance(25.2222,float)"
   ]
  },
  {
   "cell_type": "code",
   "execution_count": 132,
   "id": "5f9a80c5",
   "metadata": {},
   "outputs": [
    {
     "data": {
      "text/plain": [
       "True"
      ]
     },
     "execution_count": 132,
     "metadata": {},
     "output_type": "execute_result"
    }
   ],
   "source": [
    "isinstance(\"tom and jerry\",str)"
   ]
  },
  {
   "cell_type": "markdown",
   "id": "323ed383",
   "metadata": {},
   "source": [
    "# ASCII values- we use this to convert english into binary."
   ]
  },
  {
   "cell_type": "markdown",
   "id": "d47f7182",
   "metadata": {},
   "source": [
    "# 1] ord(\" \") - accept string char and return ascci value of char"
   ]
  },
  {
   "cell_type": "code",
   "execution_count": 133,
   "id": "6c706d93",
   "metadata": {},
   "outputs": [
    {
     "data": {
      "text/plain": [
       "49"
      ]
     },
     "execution_count": 133,
     "metadata": {},
     "output_type": "execute_result"
    }
   ],
   "source": [
    "ord(\"1\")"
   ]
  },
  {
   "cell_type": "code",
   "execution_count": 134,
   "id": "8b93fc87",
   "metadata": {},
   "outputs": [
    {
     "data": {
      "text/plain": [
       "106"
      ]
     },
     "execution_count": 134,
     "metadata": {},
     "output_type": "execute_result"
    }
   ],
   "source": [
    "ord(\"j\")"
   ]
  },
  {
   "cell_type": "code",
   "execution_count": 135,
   "id": "10bf0058",
   "metadata": {},
   "outputs": [
    {
     "data": {
      "text/plain": [
       "122"
      ]
     },
     "execution_count": 135,
     "metadata": {},
     "output_type": "execute_result"
    }
   ],
   "source": [
    "ord(\"z\")"
   ]
  },
  {
   "cell_type": "code",
   "execution_count": 136,
   "id": "daa138c9",
   "metadata": {},
   "outputs": [
    {
     "data": {
      "text/plain": [
       "37"
      ]
     },
     "execution_count": 136,
     "metadata": {},
     "output_type": "execute_result"
    }
   ],
   "source": [
    "ord(\"%\")"
   ]
  },
  {
   "cell_type": "code",
   "execution_count": 137,
   "id": "46f6a74c",
   "metadata": {},
   "outputs": [
    {
     "data": {
      "text/plain": [
       "42"
      ]
     },
     "execution_count": 137,
     "metadata": {},
     "output_type": "execute_result"
    }
   ],
   "source": [
    "ord(\"*\")"
   ]
  },
  {
   "cell_type": "code",
   "execution_count": 141,
   "id": "4024c336",
   "metadata": {},
   "outputs": [
    {
     "data": {
      "text/plain": [
       "41"
      ]
     },
     "execution_count": 141,
     "metadata": {},
     "output_type": "execute_result"
    }
   ],
   "source": [
    "ord(\")\")"
   ]
  },
  {
   "cell_type": "markdown",
   "id": "a29fba69",
   "metadata": {},
   "source": [
    "# 2] Char() - Aceept Ascii value and retrun string char"
   ]
  },
  {
   "cell_type": "code",
   "execution_count": 147,
   "id": "899bb8c3",
   "metadata": {},
   "outputs": [
    {
     "data": {
      "text/plain": [
       "'z'"
      ]
     },
     "execution_count": 147,
     "metadata": {},
     "output_type": "execute_result"
    }
   ],
   "source": [
    "chr(122)"
   ]
  },
  {
   "cell_type": "code",
   "execution_count": 148,
   "id": "52d649e3",
   "metadata": {},
   "outputs": [
    {
     "data": {
      "text/plain": [
       "'\\t'"
      ]
     },
     "execution_count": 148,
     "metadata": {},
     "output_type": "execute_result"
    }
   ],
   "source": [
    "chr(9)"
   ]
  },
  {
   "cell_type": "code",
   "execution_count": 149,
   "id": "ffcb1c67",
   "metadata": {},
   "outputs": [
    {
     "data": {
      "text/plain": [
       "'d'"
      ]
     },
     "execution_count": 149,
     "metadata": {},
     "output_type": "execute_result"
    }
   ],
   "source": [
    "chr(100)"
   ]
  },
  {
   "cell_type": "code",
   "execution_count": 150,
   "id": "af0ae16d",
   "metadata": {},
   "outputs": [
    {
     "data": {
      "text/plain": [
       "'y'"
      ]
     },
     "execution_count": 150,
     "metadata": {},
     "output_type": "execute_result"
    }
   ],
   "source": [
    "chr(121)"
   ]
  },
  {
   "cell_type": "code",
   "execution_count": 151,
   "id": "31e70b84",
   "metadata": {},
   "outputs": [
    {
     "data": {
      "text/plain": [
       "'\\x00'"
      ]
     },
     "execution_count": 151,
     "metadata": {},
     "output_type": "execute_result"
    }
   ],
   "source": [
    "chr(0)"
   ]
  },
  {
   "cell_type": "code",
   "execution_count": 153,
   "id": "7489c006",
   "metadata": {},
   "outputs": [
    {
     "data": {
      "text/plain": [
       "'\\x01'"
      ]
     },
     "execution_count": 153,
     "metadata": {},
     "output_type": "execute_result"
    }
   ],
   "source": [
    "chr(+1)"
   ]
  },
  {
   "cell_type": "code",
   "execution_count": null,
   "id": "59305d34",
   "metadata": {},
   "outputs": [],
   "source": [
    "# for ascii table"
   ]
  },
  {
   "cell_type": "code",
   "execution_count": 155,
   "id": "01dba26a",
   "metadata": {},
   "outputs": [
    {
     "name": "stdout",
     "output_type": "stream",
     "text": [
      "0 \u0000\n",
      "1 \u0001\n",
      "2 \u0002\n",
      "3 \u0003\n",
      "4 \u0004\n",
      "5 \u0005\n",
      "6 \u0006\n",
      "7 \u0007\n",
      "8 \b\n",
      "9 \t\n",
      "10 \n",
      "\n",
      "11 \u000b",
      "\n",
      "12 \f",
      "\n",
      "13 \r\n",
      "14 \u000e\n",
      "15 \u000f\n",
      "16 \u0010\n",
      "17 \u0011\n",
      "18 \u0012\n",
      "19 \u0013\n",
      "20 \u0014\n",
      "21 \u0015\n",
      "22 \u0016\n",
      "23 \u0017\n",
      "24 \u0018\n",
      "25 \u0019\n",
      "26 \u001a\n",
      "27 \u001b\n",
      "28 \u001c",
      "\n",
      "29 \u001d",
      "\n",
      "30 \u001e",
      "\n",
      "31 \u001f\n",
      "32  \n",
      "33 !\n",
      "34 \"\n",
      "35 #\n",
      "36 $\n",
      "37 %\n",
      "38 &\n",
      "39 '\n",
      "40 (\n",
      "41 )\n",
      "42 *\n",
      "43 +\n",
      "44 ,\n",
      "45 -\n",
      "46 .\n",
      "47 /\n",
      "48 0\n",
      "49 1\n",
      "50 2\n",
      "51 3\n",
      "52 4\n",
      "53 5\n",
      "54 6\n",
      "55 7\n",
      "56 8\n",
      "57 9\n",
      "58 :\n",
      "59 ;\n",
      "60 <\n",
      "61 =\n",
      "62 >\n",
      "63 ?\n",
      "64 @\n",
      "65 A\n",
      "66 B\n",
      "67 C\n",
      "68 D\n",
      "69 E\n",
      "70 F\n",
      "71 G\n",
      "72 H\n",
      "73 I\n",
      "74 J\n",
      "75 K\n",
      "76 L\n",
      "77 M\n",
      "78 N\n",
      "79 O\n",
      "80 P\n",
      "81 Q\n",
      "82 R\n",
      "83 S\n",
      "84 T\n",
      "85 U\n",
      "86 V\n",
      "87 W\n",
      "88 X\n",
      "89 Y\n",
      "90 Z\n",
      "91 [\n",
      "92 \\\n",
      "93 ]\n",
      "94 ^\n",
      "95 _\n",
      "96 `\n",
      "97 a\n",
      "98 b\n",
      "99 c\n",
      "100 d\n",
      "101 e\n",
      "102 f\n",
      "103 g\n",
      "104 h\n",
      "105 i\n",
      "106 j\n",
      "107 k\n",
      "108 l\n",
      "109 m\n",
      "110 n\n",
      "111 o\n",
      "112 p\n",
      "113 q\n",
      "114 r\n",
      "115 s\n",
      "116 t\n",
      "117 u\n",
      "118 v\n",
      "119 w\n",
      "120 x\n",
      "121 y\n",
      "122 z\n",
      "123 {\n",
      "124 |\n",
      "125 }\n",
      "126 ~\n",
      "127 \n"
     ]
    }
   ],
   "source": [
    "for i in range(0,128):\n",
    "    print(i,chr(i))"
   ]
  },
  {
   "cell_type": "code",
   "execution_count": null,
   "id": "731c2269",
   "metadata": {},
   "outputs": [],
   "source": []
  },
  {
   "cell_type": "code",
   "execution_count": null,
   "id": "f2a82e18",
   "metadata": {},
   "outputs": [],
   "source": []
  },
  {
   "cell_type": "code",
   "execution_count": null,
   "id": "380401dc",
   "metadata": {},
   "outputs": [],
   "source": []
  },
  {
   "cell_type": "code",
   "execution_count": null,
   "id": "b0541579",
   "metadata": {},
   "outputs": [],
   "source": []
  },
  {
   "cell_type": "code",
   "execution_count": null,
   "id": "1a52b8dc",
   "metadata": {},
   "outputs": [],
   "source": []
  },
  {
   "cell_type": "code",
   "execution_count": null,
   "id": "73e210f5",
   "metadata": {},
   "outputs": [],
   "source": []
  },
  {
   "cell_type": "code",
   "execution_count": null,
   "id": "0d66d140",
   "metadata": {},
   "outputs": [],
   "source": []
  },
  {
   "cell_type": "code",
   "execution_count": null,
   "id": "2a6cbff1",
   "metadata": {},
   "outputs": [],
   "source": []
  },
  {
   "cell_type": "code",
   "execution_count": null,
   "id": "36478900",
   "metadata": {},
   "outputs": [],
   "source": []
  },
  {
   "cell_type": "code",
   "execution_count": null,
   "id": "8e57b0c5",
   "metadata": {},
   "outputs": [],
   "source": []
  },
  {
   "cell_type": "code",
   "execution_count": null,
   "id": "8a33d37c",
   "metadata": {},
   "outputs": [],
   "source": []
  },
  {
   "cell_type": "code",
   "execution_count": null,
   "id": "6d6f57c4",
   "metadata": {},
   "outputs": [],
   "source": []
  },
  {
   "cell_type": "code",
   "execution_count": null,
   "id": "451e6028",
   "metadata": {},
   "outputs": [],
   "source": []
  }
 ],
 "metadata": {
  "kernelspec": {
   "display_name": "Python 3",
   "language": "python",
   "name": "python3"
  },
  "language_info": {
   "codemirror_mode": {
    "name": "ipython",
    "version": 3
   },
   "file_extension": ".py",
   "mimetype": "text/x-python",
   "name": "python",
   "nbconvert_exporter": "python",
   "pygments_lexer": "ipython3",
   "version": "3.8.8"
  }
 },
 "nbformat": 4,
 "nbformat_minor": 5
}
