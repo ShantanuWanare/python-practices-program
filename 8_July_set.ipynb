{
 "cells": [
  {
   "cell_type": "code",
   "execution_count": 1,
   "id": "ebcf1d84",
   "metadata": {},
   "outputs": [],
   "source": [
    "f = {20,50,10,16,3,11,60,99}\n",
    "d = {55,44,3,7,60,30,99,12}"
   ]
  },
  {
   "cell_type": "code",
   "execution_count": 2,
   "id": "695dc834",
   "metadata": {},
   "outputs": [
    {
     "data": {
      "text/plain": [
       "{3, 10, 11, 16, 20, 50, 60, 99}"
      ]
     },
     "execution_count": 2,
     "metadata": {},
     "output_type": "execute_result"
    }
   ],
   "source": [
    "f"
   ]
  },
  {
   "cell_type": "code",
   "execution_count": 3,
   "id": "9a0fa956",
   "metadata": {},
   "outputs": [
    {
     "data": {
      "text/plain": [
       "{3, 7, 12, 30, 44, 55, 60, 99}"
      ]
     },
     "execution_count": 3,
     "metadata": {},
     "output_type": "execute_result"
    }
   ],
   "source": [
    "d"
   ]
  },
  {
   "cell_type": "code",
   "execution_count": 4,
   "id": "ee28eaa5",
   "metadata": {},
   "outputs": [
    {
     "name": "stdout",
     "output_type": "stream",
     "text": [
      "['__and__', '__class__', '__contains__', '__delattr__', '__dir__', '__doc__', '__eq__', '__format__', '__ge__', '__getattribute__', '__gt__', '__hash__', '__iand__', '__init__', '__init_subclass__', '__ior__', '__isub__', '__iter__', '__ixor__', '__le__', '__len__', '__lt__', '__ne__', '__new__', '__or__', '__rand__', '__reduce__', '__reduce_ex__', '__repr__', '__ror__', '__rsub__', '__rxor__', '__setattr__', '__sizeof__', '__str__', '__sub__', '__subclasshook__', '__xor__', 'add', 'clear', 'copy', 'difference', 'difference_update', 'discard', 'intersection', 'intersection_update', 'isdisjoint', 'issubset', 'issuperset', 'pop', 'remove', 'symmetric_difference', 'symmetric_difference_update', 'union', 'update']\n"
     ]
    }
   ],
   "source": [
    "print(dir(set))"
   ]
  },
  {
   "cell_type": "code",
   "execution_count": 5,
   "id": "6c21b497",
   "metadata": {},
   "outputs": [
    {
     "data": {
      "text/plain": [
       "{3, 60, 99}"
      ]
     },
     "execution_count": 5,
     "metadata": {},
     "output_type": "execute_result"
    }
   ],
   "source": [
    "f.intersection(d)"
   ]
  },
  {
   "cell_type": "code",
   "execution_count": 6,
   "id": "6ede5637",
   "metadata": {},
   "outputs": [
    {
     "data": {
      "text/plain": [
       "{7, 12, 30, 44, 55}"
      ]
     },
     "execution_count": 6,
     "metadata": {},
     "output_type": "execute_result"
    }
   ],
   "source": [
    "d.difference(f)"
   ]
  },
  {
   "cell_type": "code",
   "execution_count": 7,
   "id": "2c5f5473",
   "metadata": {},
   "outputs": [
    {
     "data": {
      "text/plain": [
       "{10, 11, 16, 20, 50}"
      ]
     },
     "execution_count": 7,
     "metadata": {},
     "output_type": "execute_result"
    }
   ],
   "source": [
    "f.difference(d)"
   ]
  },
  {
   "cell_type": "code",
   "execution_count": 8,
   "id": "d85394fd",
   "metadata": {},
   "outputs": [],
   "source": [
    "d.difference_update(f)"
   ]
  },
  {
   "cell_type": "code",
   "execution_count": 9,
   "id": "e34bc6c3",
   "metadata": {},
   "outputs": [
    {
     "data": {
      "text/plain": [
       "{3, 10, 11, 16, 20, 50, 60, 99}"
      ]
     },
     "execution_count": 9,
     "metadata": {},
     "output_type": "execute_result"
    }
   ],
   "source": [
    "f"
   ]
  },
  {
   "cell_type": "code",
   "execution_count": 10,
   "id": "b1e6bb7f",
   "metadata": {},
   "outputs": [
    {
     "data": {
      "text/plain": [
       "{7, 12, 30, 44, 55}"
      ]
     },
     "execution_count": 10,
     "metadata": {},
     "output_type": "execute_result"
    }
   ],
   "source": [
    "d"
   ]
  },
  {
   "cell_type": "code",
   "execution_count": 11,
   "id": "044c8dcf",
   "metadata": {},
   "outputs": [],
   "source": [
    "f = {20,50,10,16,3,11,60,99}\n",
    "d = {55,44,3,7,60,30,99,12}"
   ]
  },
  {
   "cell_type": "code",
   "execution_count": 12,
   "id": "f83e493d",
   "metadata": {},
   "outputs": [
    {
     "data": {
      "text/plain": [
       "{3, 10, 11, 16, 20, 50, 60, 99}"
      ]
     },
     "execution_count": 12,
     "metadata": {},
     "output_type": "execute_result"
    }
   ],
   "source": [
    "f"
   ]
  },
  {
   "cell_type": "code",
   "execution_count": 13,
   "id": "2af3a58f",
   "metadata": {},
   "outputs": [
    {
     "data": {
      "text/plain": [
       "{3, 7, 12, 30, 44, 55, 60, 99}"
      ]
     },
     "execution_count": 13,
     "metadata": {},
     "output_type": "execute_result"
    }
   ],
   "source": [
    "d"
   ]
  },
  {
   "cell_type": "code",
   "execution_count": 14,
   "id": "0eeced32",
   "metadata": {},
   "outputs": [],
   "source": [
    "f.difference_update(d)"
   ]
  },
  {
   "cell_type": "code",
   "execution_count": 15,
   "id": "fe8352e2",
   "metadata": {},
   "outputs": [
    {
     "data": {
      "text/plain": [
       "{10, 11, 16, 20, 50}"
      ]
     },
     "execution_count": 15,
     "metadata": {},
     "output_type": "execute_result"
    }
   ],
   "source": [
    "f"
   ]
  },
  {
   "cell_type": "code",
   "execution_count": 16,
   "id": "51c88db9",
   "metadata": {},
   "outputs": [
    {
     "data": {
      "text/plain": [
       "{3, 7, 12, 30, 44, 55, 60, 99}"
      ]
     },
     "execution_count": 16,
     "metadata": {},
     "output_type": "execute_result"
    }
   ],
   "source": [
    "d"
   ]
  },
  {
   "cell_type": "code",
   "execution_count": 17,
   "id": "25c76e5b",
   "metadata": {},
   "outputs": [],
   "source": [
    "f = {20,50,10,16,3,11,60,99}\n",
    "d = {55,44,3,7,60,30,99,12}"
   ]
  },
  {
   "cell_type": "code",
   "execution_count": 18,
   "id": "4a07f0f5",
   "metadata": {},
   "outputs": [
    {
     "data": {
      "text/plain": [
       "{7, 10, 11, 12, 16, 20, 30, 44, 50, 55}"
      ]
     },
     "execution_count": 18,
     "metadata": {},
     "output_type": "execute_result"
    }
   ],
   "source": [
    "f.symmetric_difference(d)"
   ]
  },
  {
   "cell_type": "code",
   "execution_count": 19,
   "id": "1af2bd68",
   "metadata": {},
   "outputs": [
    {
     "data": {
      "text/plain": [
       "{7, 10, 11, 12, 16, 20, 30, 44, 50, 55}"
      ]
     },
     "execution_count": 19,
     "metadata": {},
     "output_type": "execute_result"
    }
   ],
   "source": [
    "d.symmetric_difference(f)"
   ]
  },
  {
   "cell_type": "code",
   "execution_count": 20,
   "id": "25b01a47",
   "metadata": {},
   "outputs": [],
   "source": [
    "f.symmetric_difference_update(d)"
   ]
  },
  {
   "cell_type": "code",
   "execution_count": 21,
   "id": "8f4e2c7e",
   "metadata": {},
   "outputs": [
    {
     "data": {
      "text/plain": [
       "{7, 10, 11, 12, 16, 20, 30, 44, 50, 55}"
      ]
     },
     "execution_count": 21,
     "metadata": {},
     "output_type": "execute_result"
    }
   ],
   "source": [
    "f"
   ]
  },
  {
   "cell_type": "code",
   "execution_count": 22,
   "id": "97088971",
   "metadata": {},
   "outputs": [
    {
     "data": {
      "text/plain": [
       "{3, 7, 12, 30, 44, 55, 60, 99}"
      ]
     },
     "execution_count": 22,
     "metadata": {},
     "output_type": "execute_result"
    }
   ],
   "source": [
    "d"
   ]
  },
  {
   "cell_type": "code",
   "execution_count": 23,
   "id": "698ee876",
   "metadata": {},
   "outputs": [],
   "source": [
    "f = {20,50,10,16,11,}\n",
    "d = {55,44,3,7,60,30,99,12}"
   ]
  },
  {
   "cell_type": "code",
   "execution_count": 24,
   "id": "0b0d421b",
   "metadata": {},
   "outputs": [
    {
     "data": {
      "text/plain": [
       "{3, 10, 11, 16, 20, 50, 60, 99}"
      ]
     },
     "execution_count": 24,
     "metadata": {},
     "output_type": "execute_result"
    }
   ],
   "source": [
    "f"
   ]
  },
  {
   "cell_type": "code",
   "execution_count": 25,
   "id": "a335659c",
   "metadata": {},
   "outputs": [
    {
     "data": {
      "text/plain": [
       "{3, 7, 12, 30, 44, 55, 60, 99}"
      ]
     },
     "execution_count": 25,
     "metadata": {},
     "output_type": "execute_result"
    }
   ],
   "source": [
    "d"
   ]
  },
  {
   "cell_type": "code",
   "execution_count": 29,
   "id": "b6cec161",
   "metadata": {},
   "outputs": [
    {
     "data": {
      "text/plain": [
       "False"
      ]
     },
     "execution_count": 29,
     "metadata": {},
     "output_type": "execute_result"
    }
   ],
   "source": [
    "f.isdisjoint(d)"
   ]
  },
  {
   "cell_type": "code",
   "execution_count": 30,
   "id": "3aaebf48",
   "metadata": {},
   "outputs": [
    {
     "name": "stdout",
     "output_type": "stream",
     "text": [
      "Help on method_descriptor:\n",
      "\n",
      "isdisjoint(...)\n",
      "    Return True if two sets have a null intersection.\n",
      "\n"
     ]
    }
   ],
   "source": [
    "help(set.isdisjoint)"
   ]
  },
  {
   "cell_type": "code",
   "execution_count": 31,
   "id": "bb2ff2c3",
   "metadata": {},
   "outputs": [
    {
     "data": {
      "text/plain": [
       "False"
      ]
     },
     "execution_count": 31,
     "metadata": {},
     "output_type": "execute_result"
    }
   ],
   "source": [
    "d.isdisjoint(f)"
   ]
  },
  {
   "cell_type": "code",
   "execution_count": 32,
   "id": "9ece207f",
   "metadata": {},
   "outputs": [],
   "source": [
    "f = {20,50,10,16,11,}\n",
    "d = {55,44,3,7,60,30,99,12}"
   ]
  },
  {
   "cell_type": "code",
   "execution_count": 33,
   "id": "7156b7c4",
   "metadata": {},
   "outputs": [
    {
     "data": {
      "text/plain": [
       "True"
      ]
     },
     "execution_count": 33,
     "metadata": {},
     "output_type": "execute_result"
    }
   ],
   "source": [
    "f.isdisjoint(d)"
   ]
  },
  {
   "cell_type": "code",
   "execution_count": 34,
   "id": "4a7913b4",
   "metadata": {},
   "outputs": [
    {
     "data": {
      "text/plain": [
       "False"
      ]
     },
     "execution_count": 34,
     "metadata": {},
     "output_type": "execute_result"
    }
   ],
   "source": [
    "d.issuperset(f)"
   ]
  },
  {
   "cell_type": "code",
   "execution_count": 35,
   "id": "7bf7260c",
   "metadata": {},
   "outputs": [
    {
     "name": "stdout",
     "output_type": "stream",
     "text": [
      "Help on method_descriptor:\n",
      "\n",
      "issuperset(...)\n",
      "    Report whether this set contains another set.\n",
      "\n"
     ]
    }
   ],
   "source": [
    "help(set.issuperset)"
   ]
  },
  {
   "cell_type": "code",
   "execution_count": 36,
   "id": "6b73802c",
   "metadata": {},
   "outputs": [],
   "source": [
    "f = {20,50,10,16,11,}\n",
    "d = {55,44,3,7,60,30,99,12,20,50,10,16,11}"
   ]
  },
  {
   "cell_type": "code",
   "execution_count": 37,
   "id": "89410189",
   "metadata": {},
   "outputs": [
    {
     "data": {
      "text/plain": [
       "True"
      ]
     },
     "execution_count": 37,
     "metadata": {},
     "output_type": "execute_result"
    }
   ],
   "source": [
    "d.issuperset(f)"
   ]
  },
  {
   "cell_type": "code",
   "execution_count": 38,
   "id": "eac53220",
   "metadata": {},
   "outputs": [],
   "source": [
    "f = {20,50,10,16,3,11,60,99}\n",
    "d = {55,44,3,7,60,30,99,12}"
   ]
  },
  {
   "cell_type": "code",
   "execution_count": 39,
   "id": "6ae9b4cf",
   "metadata": {},
   "outputs": [
    {
     "data": {
      "text/plain": [
       "{3, 10, 11, 16, 20, 50, 60, 99}"
      ]
     },
     "execution_count": 39,
     "metadata": {},
     "output_type": "execute_result"
    }
   ],
   "source": [
    "f"
   ]
  },
  {
   "cell_type": "code",
   "execution_count": 40,
   "id": "250bc593",
   "metadata": {},
   "outputs": [
    {
     "data": {
      "text/plain": [
       "{3, 7, 12, 30, 44, 55, 60, 99}"
      ]
     },
     "execution_count": 40,
     "metadata": {},
     "output_type": "execute_result"
    }
   ],
   "source": [
    "d"
   ]
  },
  {
   "cell_type": "code",
   "execution_count": 42,
   "id": "243ea6b6",
   "metadata": {},
   "outputs": [
    {
     "data": {
      "text/plain": [
       "{3, 60, 99}"
      ]
     },
     "execution_count": 42,
     "metadata": {},
     "output_type": "execute_result"
    }
   ],
   "source": [
    "f.intersection(d)"
   ]
  },
  {
   "cell_type": "code",
   "execution_count": 43,
   "id": "a4ff776b",
   "metadata": {},
   "outputs": [
    {
     "data": {
      "text/plain": [
       "{3, 60, 99}"
      ]
     },
     "execution_count": 43,
     "metadata": {},
     "output_type": "execute_result"
    }
   ],
   "source": [
    "d.intersection(f)"
   ]
  },
  {
   "cell_type": "code",
   "execution_count": 44,
   "id": "d61381a0",
   "metadata": {},
   "outputs": [],
   "source": [
    "f.intersection_update(d)"
   ]
  },
  {
   "cell_type": "code",
   "execution_count": 45,
   "id": "1dc8ab81",
   "metadata": {},
   "outputs": [
    {
     "data": {
      "text/plain": [
       "{3, 60, 99}"
      ]
     },
     "execution_count": 45,
     "metadata": {},
     "output_type": "execute_result"
    }
   ],
   "source": [
    "f"
   ]
  },
  {
   "cell_type": "code",
   "execution_count": 46,
   "id": "f31d06d9",
   "metadata": {},
   "outputs": [],
   "source": [
    "f = {20,50,10,16,3,11,60,99}\n",
    "d = {55,44,3,7,60,30,99,12}"
   ]
  },
  {
   "cell_type": "code",
   "execution_count": 47,
   "id": "81185bd5",
   "metadata": {},
   "outputs": [],
   "source": [
    "f.intersection_update(d)"
   ]
  },
  {
   "cell_type": "code",
   "execution_count": 48,
   "id": "d96636fb",
   "metadata": {},
   "outputs": [
    {
     "data": {
      "text/plain": [
       "{3, 7, 12, 30, 44, 55, 60, 99}"
      ]
     },
     "execution_count": 48,
     "metadata": {},
     "output_type": "execute_result"
    }
   ],
   "source": [
    "d"
   ]
  },
  {
   "cell_type": "code",
   "execution_count": 49,
   "id": "ae2a40f0",
   "metadata": {},
   "outputs": [
    {
     "data": {
      "text/plain": [
       "{3, 60, 99}"
      ]
     },
     "execution_count": 49,
     "metadata": {},
     "output_type": "execute_result"
    }
   ],
   "source": [
    "f"
   ]
  },
  {
   "cell_type": "code",
   "execution_count": 50,
   "id": "f6e7a898",
   "metadata": {},
   "outputs": [
    {
     "data": {
      "text/plain": [
       "{3, 60, 99}"
      ]
     },
     "execution_count": 50,
     "metadata": {},
     "output_type": "execute_result"
    }
   ],
   "source": [
    "f"
   ]
  },
  {
   "cell_type": "code",
   "execution_count": null,
   "id": "82c6bb65",
   "metadata": {},
   "outputs": [],
   "source": []
  },
  {
   "cell_type": "code",
   "execution_count": null,
   "id": "34cf0949",
   "metadata": {},
   "outputs": [],
   "source": []
  },
  {
   "cell_type": "code",
   "execution_count": null,
   "id": "02b5c481",
   "metadata": {},
   "outputs": [],
   "source": []
  },
  {
   "cell_type": "code",
   "execution_count": null,
   "id": "ed91dd1e",
   "metadata": {},
   "outputs": [],
   "source": []
  },
  {
   "cell_type": "code",
   "execution_count": null,
   "id": "300f0ff3",
   "metadata": {},
   "outputs": [],
   "source": []
  },
  {
   "cell_type": "code",
   "execution_count": null,
   "id": "dc67e7ea",
   "metadata": {},
   "outputs": [],
   "source": []
  }
 ],
 "metadata": {
  "kernelspec": {
   "display_name": "Python 3",
   "language": "python",
   "name": "python3"
  },
  "language_info": {
   "codemirror_mode": {
    "name": "ipython",
    "version": 3
   },
   "file_extension": ".py",
   "mimetype": "text/x-python",
   "name": "python",
   "nbconvert_exporter": "python",
   "pygments_lexer": "ipython3",
   "version": "3.8.8"
  }
 },
 "nbformat": 4,
 "nbformat_minor": 5
}
