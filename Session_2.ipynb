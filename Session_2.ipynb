{
 "cells": [
  {
   "cell_type": "code",
   "execution_count": null,
   "id": "fb561121",
   "metadata": {},
   "outputs": [],
   "source": []
  },
  {
   "cell_type": "code",
   "execution_count": 6,
   "id": "b1d915e5",
   "metadata": {},
   "outputs": [],
   "source": [
    "n = 500"
   ]
  },
  {
   "cell_type": "code",
   "execution_count": 7,
   "id": "c7e82cd6",
   "metadata": {},
   "outputs": [
    {
     "data": {
      "text/plain": [
       "int"
      ]
     },
     "execution_count": 7,
     "metadata": {},
     "output_type": "execute_result"
    }
   ],
   "source": [
    "type(n)"
   ]
  },
  {
   "cell_type": "code",
   "execution_count": 4,
   "id": "d8d84e01",
   "metadata": {},
   "outputs": [],
   "source": [
    "n1 = \"class\""
   ]
  },
  {
   "cell_type": "code",
   "execution_count": 5,
   "id": "fa618fec",
   "metadata": {},
   "outputs": [
    {
     "data": {
      "text/plain": [
       "str"
      ]
     },
     "execution_count": 5,
     "metadata": {},
     "output_type": "execute_result"
    }
   ],
   "source": [
    "type(n1)"
   ]
  },
  {
   "cell_type": "markdown",
   "id": "e75a68b6",
   "metadata": {},
   "source": [
    "## WAP to make Adtion of two values"
   ]
  },
  {
   "cell_type": "code",
   "execution_count": 9,
   "id": "d4d6600b",
   "metadata": {},
   "outputs": [
    {
     "name": "stdout",
     "output_type": "stream",
     "text": [
      "300\n"
     ]
    }
   ],
   "source": [
    "n1 = 100  \n",
    "n2 = 200\n",
    "# we have defined the two variable n1 & n2\n",
    "result = n1+ n2  # so no need for quotes here\n",
    "print(result) # again we have defined result variable so no need for quote"
   ]
  },
  {
   "cell_type": "code",
   "execution_count": 10,
   "id": "ae95136d",
   "metadata": {},
   "outputs": [
    {
     "name": "stdout",
     "output_type": "stream",
     "text": [
      "addition of two number is: 300\n"
     ]
    }
   ],
   "source": [
    "print(\"addition of two number is:\",result)"
   ]
  },
  {
   "cell_type": "code",
   "execution_count": null,
   "id": "ff09078f",
   "metadata": {},
   "outputs": [],
   "source": [
    "# for input funtion # by default store values in Str."
   ]
  },
  {
   "cell_type": "code",
   "execution_count": 11,
   "id": "0addf269",
   "metadata": {},
   "outputs": [
    {
     "name": "stdout",
     "output_type": "stream",
     "text": [
      "500\n"
     ]
    },
    {
     "data": {
      "text/plain": [
       "'500'"
      ]
     },
     "execution_count": 11,
     "metadata": {},
     "output_type": "execute_result"
    }
   ],
   "source": [
    "input()"
   ]
  },
  {
   "cell_type": "code",
   "execution_count": 12,
   "id": "c47481b4",
   "metadata": {},
   "outputs": [
    {
     "name": "stdout",
     "output_type": "stream",
     "text": [
      "enter some value :50000\n"
     ]
    }
   ],
   "source": [
    "dummy_value = input(\"enter some value :\")"
   ]
  },
  {
   "cell_type": "code",
   "execution_count": 13,
   "id": "0e438cdf",
   "metadata": {},
   "outputs": [],
   "source": [
    "# now the value = 50000 is store in dummy value # but data type is str"
   ]
  },
  {
   "cell_type": "code",
   "execution_count": 14,
   "id": "11f5de9a",
   "metadata": {},
   "outputs": [
    {
     "data": {
      "text/plain": [
       "'50000'"
      ]
     },
     "execution_count": 14,
     "metadata": {},
     "output_type": "execute_result"
    }
   ],
   "source": [
    "dummy_value"
   ]
  },
  {
   "cell_type": "markdown",
   "id": "ea9c302c",
   "metadata": {},
   "source": [
    "## WAP to make addition of two values Note : take input from user"
   ]
  },
  {
   "cell_type": "code",
   "execution_count": 15,
   "id": "f2e75d2f",
   "metadata": {},
   "outputs": [
    {
     "name": "stdout",
     "output_type": "stream",
     "text": [
      "enter first value50\n",
      "enter second value80\n",
      "addition of two values is: 5080\n"
     ]
    }
   ],
   "source": [
    "first_value = input(\"enter first value\")\n",
    "second_value = input('enter second value')\n",
    "result = first_value + second_value\n",
    "print(\"addition of two values is:\",result )"
   ]
  },
  {
   "cell_type": "code",
   "execution_count": 2,
   "id": "e400964d",
   "metadata": {},
   "outputs": [],
   "source": [
    "# 5080 is concate # whenever we have input function by default we get data in str data type\n",
    "# Python cannot convert a floating-point number in a string to an integer. means 7.5 - \"7.5\" - 7\n",
    "# To overcome this issue, we need to convert the value a user inserts to a floating point number. \n",
    "#Then, we can convert it to an integer."
   ]
  },
  {
   "cell_type": "markdown",
   "id": "d744e7e3",
   "metadata": {},
   "source": [
    "## so we need typecasting means changening the data types"
   ]
  },
  {
   "cell_type": "code",
   "execution_count": 3,
   "id": "b3ac02b0",
   "metadata": {},
   "outputs": [],
   "source": [
    "# convert str into int"
   ]
  },
  {
   "cell_type": "code",
   "execution_count": 9,
   "id": "b90dbfab",
   "metadata": {},
   "outputs": [
    {
     "name": "stdout",
     "output_type": "stream",
     "text": [
      "100\n"
     ]
    }
   ],
   "source": [
    "Number_1 = \"100\"\n",
    "print(Number_1)"
   ]
  },
  {
   "cell_type": "code",
   "execution_count": 10,
   "id": "5c448194",
   "metadata": {},
   "outputs": [
    {
     "data": {
      "text/plain": [
       "str"
      ]
     },
     "execution_count": 10,
     "metadata": {},
     "output_type": "execute_result"
    }
   ],
   "source": [
    "type(Number_1)"
   ]
  },
  {
   "cell_type": "code",
   "execution_count": 11,
   "id": "32f610ad",
   "metadata": {},
   "outputs": [
    {
     "data": {
      "text/plain": [
       "100"
      ]
     },
     "execution_count": 11,
     "metadata": {},
     "output_type": "execute_result"
    }
   ],
   "source": [
    "int(Number_1) "
   ]
  },
  {
   "cell_type": "code",
   "execution_count": 13,
   "id": "f82dfd8a",
   "metadata": {},
   "outputs": [
    {
     "data": {
      "text/plain": [
       "int"
      ]
     },
     "execution_count": 13,
     "metadata": {},
     "output_type": "execute_result"
    }
   ],
   "source": [
    "type (int (Number_1))    # to change the data type"
   ]
  },
  {
   "cell_type": "code",
   "execution_count": 14,
   "id": "2b22be51",
   "metadata": {},
   "outputs": [
    {
     "name": "stdout",
     "output_type": "stream",
     "text": [
      "enter first value25\n",
      "enter second value50\n",
      "addition of two values is: 75\n"
     ]
    }
   ],
   "source": [
    "first_value = int (input(\"enter first value\")) # what ever input value is accepting, int is converting into integer value\n",
    "second_value = int(input('enter second value'))\n",
    "result = first_value + second_value\n",
    "print(\"addition of two values is:\",result )"
   ]
  },
  {
   "cell_type": "code",
   "execution_count": 15,
   "id": "969f9318",
   "metadata": {},
   "outputs": [
    {
     "data": {
      "text/plain": [
       "10"
      ]
     },
     "execution_count": 15,
     "metadata": {},
     "output_type": "execute_result"
    }
   ],
   "source": [
    "int(10.99)"
   ]
  },
  {
   "cell_type": "code",
   "execution_count": 17,
   "id": "4c4a239f",
   "metadata": {},
   "outputs": [
    {
     "ename": "ValueError",
     "evalue": "invalid literal for int() with base 10: 'technology'",
     "output_type": "error",
     "traceback": [
      "\u001b[1;31m---------------------------------------------------------------------------\u001b[0m",
      "\u001b[1;31mValueError\u001b[0m                                Traceback (most recent call last)",
      "\u001b[1;32m<ipython-input-17-00c7ed306ecb>\u001b[0m in \u001b[0;36m<module>\u001b[1;34m\u001b[0m\n\u001b[1;32m----> 1\u001b[1;33m \u001b[0mint\u001b[0m\u001b[1;33m(\u001b[0m\u001b[1;34m\"technology\"\u001b[0m\u001b[1;33m)\u001b[0m\u001b[1;33m\u001b[0m\u001b[1;33m\u001b[0m\u001b[0m\n\u001b[0m",
      "\u001b[1;31mValueError\u001b[0m: invalid literal for int() with base 10: 'technology'"
     ]
    }
   ],
   "source": [
    "int(\"technology\")  #A ValueError is raised when there is an issue with the value stored in a particular object.\n",
    "# The Python ValueError: invalid literal for int() with base 10 error is raised when you try to convert a string value\n",
    "#that is not formatted as an integer."
   ]
  },
  {
   "cell_type": "code",
   "execution_count": 18,
   "id": "db794fcd",
   "metadata": {},
   "outputs": [
    {
     "ename": "NameError",
     "evalue": "name 'technology' is not defined",
     "output_type": "error",
     "traceback": [
      "\u001b[1;31m---------------------------------------------------------------------------\u001b[0m",
      "\u001b[1;31mNameError\u001b[0m                                 Traceback (most recent call last)",
      "\u001b[1;32m<ipython-input-18-984861904f97>\u001b[0m in \u001b[0;36m<module>\u001b[1;34m\u001b[0m\n\u001b[1;32m----> 1\u001b[1;33m \u001b[0mint\u001b[0m\u001b[1;33m(\u001b[0m\u001b[0mtechnology\u001b[0m\u001b[1;33m)\u001b[0m\u001b[1;33m\u001b[0m\u001b[1;33m\u001b[0m\u001b[0m\n\u001b[0m",
      "\u001b[1;31mNameError\u001b[0m: name 'technology' is not defined"
     ]
    }
   ],
   "source": [
    "int(technology)# A NameError is raised when you try to use variable or a function name that is not valid OR not/ declare/defined"
   ]
  },
  {
   "cell_type": "markdown",
   "id": "b846a9ac",
   "metadata": {},
   "source": [
    "## WAP to calculate income tax. income tax rate is 7 %"
   ]
  },
  {
   "cell_type": "code",
   "execution_count": 19,
   "id": "d0b1c914",
   "metadata": {},
   "outputs": [],
   "source": [
    "# first we need to define user's salary"
   ]
  },
  {
   "cell_type": "code",
   "execution_count": 20,
   "id": "a29e45c5",
   "metadata": {},
   "outputs": [],
   "source": [
    "# then calculate yearly income"
   ]
  },
  {
   "cell_type": "code",
   "execution_count": null,
   "id": "c5623f77",
   "metadata": {},
   "outputs": [],
   "source": [
    "# then tax formula = yearly income * 7 /100"
   ]
  },
  {
   "cell_type": "code",
   "execution_count": 21,
   "id": "b0688764",
   "metadata": {},
   "outputs": [],
   "source": [
    "# then print tax"
   ]
  },
  {
   "cell_type": "code",
   "execution_count": 29,
   "id": "798e5c41",
   "metadata": {},
   "outputs": [
    {
     "name": "stdout",
     "output_type": "stream",
     "text": [
      "enter user's salary70000\n",
      "you need to pay this much tax: 58800.0\n"
     ]
    }
   ],
   "source": [
    "salary = int(input(\"enter user's salary\"))\n",
    "yearly_income = salary*12\n",
    "\n",
    "tax = yearly_income * 7/100\n",
    "\n",
    "print(\"you need to pay this much tax:\" , tax)"
   ]
  },
  {
   "cell_type": "markdown",
   "id": "f038c3e6",
   "metadata": {},
   "source": [
    "## WAP to calculate rate of interest for FD."
   ]
  },
  {
   "cell_type": "code",
   "execution_count": 33,
   "id": "f9f240ee",
   "metadata": {},
   "outputs": [
    {
     "name": "stdout",
     "output_type": "stream",
     "text": [
      "enter amount10000\n",
      "enter roi5.1\n",
      "enter tenure5\n",
      "total gross amount you will get is: 12550.0\n"
     ]
    }
   ],
   "source": [
    "invester_amt = int(input(\"enter amount\"))\n",
    "bank_roi = float(input(\"enter roi\"))\n",
    "tenure_fd = int(input(\"enter tenure\"))\n",
    "fd_formula = invester_amt + (invester_amt * bank_roi * tenure_fd / 100 )\n",
    "print(\"total gross amount you will get is:\", fd_formula)"
   ]
  },
  {
   "cell_type": "code",
   "execution_count": null,
   "id": "78da9619",
   "metadata": {},
   "outputs": [],
   "source": [
    "# here roi = rate of interes\n",
    "#fd = fixed deposits"
   ]
  },
  {
   "cell_type": "code",
   "execution_count": null,
   "id": "5c7955ac",
   "metadata": {},
   "outputs": [],
   "source": []
  },
  {
   "cell_type": "code",
   "execution_count": null,
   "id": "8252b4b8",
   "metadata": {},
   "outputs": [],
   "source": []
  },
  {
   "cell_type": "code",
   "execution_count": null,
   "id": "8a18bbcb",
   "metadata": {},
   "outputs": [],
   "source": []
  },
  {
   "cell_type": "code",
   "execution_count": null,
   "id": "8dfe96b8",
   "metadata": {},
   "outputs": [],
   "source": []
  }
 ],
 "metadata": {
  "kernelspec": {
   "display_name": "Python 3",
   "language": "python",
   "name": "python3"
  },
  "language_info": {
   "codemirror_mode": {
    "name": "ipython",
    "version": 3
   },
   "file_extension": ".py",
   "mimetype": "text/x-python",
   "name": "python",
   "nbconvert_exporter": "python",
   "pygments_lexer": "ipython3",
   "version": "3.8.8"
  }
 },
 "nbformat": 4,
 "nbformat_minor": 5
}
